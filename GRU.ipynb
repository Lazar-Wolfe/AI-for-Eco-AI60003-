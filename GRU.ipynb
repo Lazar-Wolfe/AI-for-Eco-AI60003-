{
  "cells": [
    {
      "cell_type": "code",
      "execution_count": 27,
      "metadata": {
        "id": "GEmZS6pMA7oA"
      },
      "outputs": [],
      "source": [
        "import pandas as pd\n",
        "import numpy as np\n",
        "import sklearn\n",
        "from sklearn.preprocessing import MinMaxScaler\n",
        "import tensorflow as tf\n",
        "from tensorflow import keras\n",
        "from tensorflow.keras import layers\n",
        "from tensorflow.keras.layers import Bidirectional, GRU, Dropout, Dense, Activation"
      ]
    },
    {
      "cell_type": "code",
      "source": [
        "print(f\"pandas=={pd.__version__}\")\n",
        "print(f\"numpy=={np.__version__}\")\n",
        "print(f\"sklearn=={sklearn.__version__}\")\n",
        "print(f\"tensorflow=={tf.__version__}\")\n",
        "print(f\"keras=={keras.__version__}\")"
      ],
      "metadata": {
        "colab": {
          "base_uri": "https://localhost:8080/"
        },
        "id": "KwtsRxIo2Rz6",
        "outputId": "a9c6a84d-8647-4336-cdfe-0520cfcd1d88"
      },
      "execution_count": 28,
      "outputs": [
        {
          "output_type": "stream",
          "name": "stdout",
          "text": [
            "pandas==1.3.5\n",
            "numpy==1.21.6\n",
            "sklearn==1.0.2\n",
            "tensorflow==2.9.2\n",
            "keras==2.9.0\n"
          ]
        }
      ]
    },
    {
      "cell_type": "code",
      "execution_count": 29,
      "metadata": {
        "id": "2m4tx8bFELw0"
      },
      "outputs": [],
      "source": [
        "csv_path = \"https://raw.githubusercontent.com/curiousily/Deep-Learning-For-Hackers/master/data/3.stock-prediction/BTC-USD.csv\"\n",
        "df = pd.read_csv(csv_path, parse_dates=['Date'])\n",
        "df = df.sort_values('Date')"
      ]
    },
    {
      "cell_type": "code",
      "execution_count": 30,
      "metadata": {
        "id": "OA6yUXh_De9P"
      },
      "outputs": [],
      "source": [
        "scaler = MinMaxScaler()\n",
        "\n",
        "close_price = df.Close.values.reshape(-1, 1)\n",
        "\n",
        "scaled_close = scaler.fit_transform(close_price)"
      ]
    },
    {
      "cell_type": "code",
      "execution_count": 31,
      "metadata": {
        "id": "VXRPVMCEDfhK"
      },
      "outputs": [],
      "source": [
        "scaled_close = scaled_close[~np.isnan(scaled_close)]\n",
        "scaled_close = scaled_close.reshape(-1, 1)"
      ]
    },
    {
      "cell_type": "code",
      "execution_count": 32,
      "metadata": {
        "id": "nwIul3R8DoIt"
      },
      "outputs": [],
      "source": [
        "SEQ_LEN = 100\n",
        "\n",
        "def to_sequences(data, seq_len):\n",
        "    d = []\n",
        "\n",
        "    for index in range(len(data) - seq_len):\n",
        "        d.append(data[index: index + seq_len])\n",
        "\n",
        "    return np.array(d)\n",
        "\n",
        "def preprocess(data_raw, seq_len, train_split):\n",
        "\n",
        "    data = to_sequences(data_raw, seq_len)\n",
        "\n",
        "    num_train = int(train_split * data.shape[0])\n",
        "\n",
        "    X_train = data[:num_train, :-1, :]\n",
        "    y_train = data[:num_train, -1, :]\n",
        "\n",
        "    X_test = data[num_train:, :-1, :]\n",
        "    y_test = data[num_train:, -1, :]\n",
        "\n",
        "    return X_train, y_train, X_test, y_test\n",
        "\n",
        "\n",
        "X_train, y_train, X_test, y_test =\\\n",
        " preprocess(scaled_close, SEQ_LEN, train_split = 0.95)"
      ]
    },
    {
      "cell_type": "code",
      "execution_count": 33,
      "metadata": {
        "id": "o4ugDXjjDoT0"
      },
      "outputs": [],
      "source": [
        "DROPOUT = 0.2\n",
        "WINDOW_SIZE = SEQ_LEN - 1\n",
        "\n",
        "model = keras.Sequential()\n",
        "\n",
        "model.add(Bidirectional(\n",
        "  GRU(WINDOW_SIZE, return_sequences=True),\n",
        "  input_shape=(WINDOW_SIZE, X_train.shape[-1])\n",
        "))\n",
        "model.add(Dropout(rate=DROPOUT))\n",
        "\n",
        "model.add(Bidirectional(\n",
        "  GRU((WINDOW_SIZE * 2), return_sequences=True)\n",
        "))\n",
        "model.add(Dropout(rate=DROPOUT))\n",
        "\n",
        "model.add(Bidirectional(\n",
        "  GRU(WINDOW_SIZE, return_sequences=False)\n",
        "))\n",
        "\n",
        "model.add(Dense(units=1))\n",
        "\n",
        "model.add(Activation('linear'))"
      ]
    },
    {
      "cell_type": "code",
      "execution_count": 34,
      "metadata": {
        "colab": {
          "base_uri": "https://localhost:8080/"
        },
        "id": "wn02GmukDoda",
        "outputId": "c5734921-7a33-4e68-9680-d664e09701b3"
      },
      "outputs": [
        {
          "output_type": "stream",
          "name": "stdout",
          "text": [
            "Epoch 1/30\n",
            "42/42 [==============================] - 13s 85ms/step - loss: 5.2530e-04 - val_loss: 0.0254\n",
            "Epoch 2/30\n",
            "42/42 [==============================] - 2s 40ms/step - loss: 0.0074 - val_loss: 0.0499\n",
            "Epoch 3/30\n",
            "42/42 [==============================] - 2s 39ms/step - loss: 0.0109 - val_loss: 0.0261\n",
            "Epoch 4/30\n",
            "42/42 [==============================] - 2s 39ms/step - loss: 0.0032 - val_loss: 0.0212\n",
            "Epoch 5/30\n",
            "42/42 [==============================] - 2s 39ms/step - loss: 0.0184 - val_loss: 0.0780\n",
            "Epoch 6/30\n",
            "42/42 [==============================] - 2s 39ms/step - loss: 0.0073 - val_loss: 0.0362\n",
            "Epoch 7/30\n",
            "42/42 [==============================] - 2s 39ms/step - loss: 0.0078 - val_loss: 0.0121\n",
            "Epoch 8/30\n",
            "42/42 [==============================] - 2s 39ms/step - loss: 0.0194 - val_loss: 0.0812\n",
            "Epoch 9/30\n",
            "42/42 [==============================] - 2s 39ms/step - loss: 0.0099 - val_loss: 0.0184\n",
            "Epoch 10/30\n",
            "42/42 [==============================] - 2s 39ms/step - loss: 0.0066 - val_loss: 6.2443e-04\n",
            "Epoch 11/30\n",
            "42/42 [==============================] - 2s 40ms/step - loss: 0.0112 - val_loss: 0.0201\n",
            "Epoch 12/30\n",
            "42/42 [==============================] - 2s 39ms/step - loss: 0.0150 - val_loss: 0.0720\n",
            "Epoch 13/30\n",
            "42/42 [==============================] - 2s 39ms/step - loss: 0.0128 - val_loss: 0.0611\n",
            "Epoch 14/30\n",
            "42/42 [==============================] - 2s 40ms/step - loss: 0.0067 - val_loss: 0.0113\n",
            "Epoch 15/30\n",
            "42/42 [==============================] - 2s 39ms/step - loss: 0.0034 - val_loss: 0.0024\n",
            "Epoch 16/30\n",
            "42/42 [==============================] - 2s 40ms/step - loss: 0.0049 - val_loss: 0.0346\n",
            "Epoch 17/30\n",
            "42/42 [==============================] - 2s 40ms/step - loss: 0.0016 - val_loss: 5.8573e-04\n",
            "Epoch 18/30\n",
            "42/42 [==============================] - 2s 45ms/step - loss: 0.0028 - val_loss: 0.0151\n",
            "Epoch 19/30\n",
            "42/42 [==============================] - 2s 46ms/step - loss: 0.0025 - val_loss: 0.0020\n",
            "Epoch 20/30\n",
            "42/42 [==============================] - 2s 38ms/step - loss: 0.0077 - val_loss: 0.0542\n",
            "Epoch 21/30\n",
            "42/42 [==============================] - 2s 38ms/step - loss: 0.0043 - val_loss: 0.0150\n",
            "Epoch 22/30\n",
            "42/42 [==============================] - 2s 39ms/step - loss: 0.0013 - val_loss: 5.7878e-04\n",
            "Epoch 23/30\n",
            "42/42 [==============================] - 2s 38ms/step - loss: 0.0026 - val_loss: 0.0152\n",
            "Epoch 24/30\n",
            "42/42 [==============================] - 2s 38ms/step - loss: 0.0012 - val_loss: 5.2480e-04\n",
            "Epoch 25/30\n",
            "42/42 [==============================] - 2s 38ms/step - loss: 0.0012 - val_loss: 0.0050\n",
            "Epoch 26/30\n",
            "42/42 [==============================] - 2s 38ms/step - loss: 0.0014 - val_loss: 5.6296e-04\n",
            "Epoch 27/30\n",
            "42/42 [==============================] - 2s 39ms/step - loss: 0.0035 - val_loss: 0.0216\n",
            "Epoch 28/30\n",
            "42/42 [==============================] - 2s 38ms/step - loss: 0.0012 - val_loss: 4.1436e-04\n",
            "Epoch 29/30\n",
            "42/42 [==============================] - 2s 38ms/step - loss: 3.5852e-04 - val_loss: 7.2322e-04\n",
            "Epoch 30/30\n",
            "42/42 [==============================] - 2s 38ms/step - loss: 3.9346e-04 - val_loss: 3.9743e-04\n"
          ]
        }
      ],
      "source": [
        "BATCH_SIZE = 64\n",
        "\n",
        "model.compile(\n",
        "    loss='mean_squared_error',\n",
        "    optimizer='adam'\n",
        ")\n",
        "\n",
        "history = model.fit(\n",
        "    X_train,\n",
        "    y_train,\n",
        "    epochs=30,\n",
        "    batch_size=BATCH_SIZE,\n",
        "    shuffle=False,\n",
        "    validation_split=0.1\n",
        ")"
      ]
    },
    {
      "cell_type": "code",
      "execution_count": 35,
      "metadata": {
        "colab": {
          "base_uri": "https://localhost:8080/"
        },
        "id": "ZGEn1RXSD2dv",
        "outputId": "2a6d9f90-c2fd-4c11-9547-c0c940b9e5e7"
      },
      "outputs": [
        {
          "output_type": "stream",
          "name": "stdout",
          "text": [
            "5/5 [==============================] - 2s 14ms/step\n"
          ]
        }
      ],
      "source": [
        "y_hat = model.predict(X_test)"
      ]
    },
    {
      "cell_type": "code",
      "execution_count": 36,
      "metadata": {
        "id": "V7HHsVXbD89V"
      },
      "outputs": [],
      "source": [
        "y_test_inverse = scaler.inverse_transform(y_test)\n",
        "y_hat_inverse = scaler.inverse_transform(y_hat)"
      ]
    },
    {
      "cell_type": "code",
      "execution_count": 37,
      "metadata": {
        "colab": {
          "base_uri": "https://localhost:8080/"
        },
        "id": "eyi3usB2me6h",
        "outputId": "a5720154-5ce0-4037-c43f-7822131089b7"
      },
      "outputs": [
        {
          "output_type": "stream",
          "name": "stdout",
          "text": [
            "5/5 [==============================] - 0s 20ms/step - loss: 1.4202e-04\n"
          ]
        },
        {
          "output_type": "execute_result",
          "data": {
            "text/plain": [
              "0.0001420210173819214"
            ]
          },
          "metadata": {},
          "execution_count": 37
        }
      ],
      "source": [
        "model.evaluate(X_test, y_test)"
      ]
    },
    {
      "cell_type": "code",
      "execution_count": 38,
      "metadata": {
        "colab": {
          "base_uri": "https://localhost:8080/",
          "height": 295
        },
        "id": "oZ-95kTtmfyP",
        "outputId": "b257d8bd-8b4c-4b19-d444-3bc16054803e"
      },
      "outputs": [
        {
          "output_type": "display_data",
          "data": {
            "text/plain": [
              "<Figure size 432x288 with 1 Axes>"
            ],
            "image/png": "[encoded data removed]"
          },
          "metadata": {
            "needs_background": "light"
          }
        }
      ],
      "source": [
        "import matplotlib.pyplot as plt\n",
        "from matplotlib import rc\n",
        "\n",
        "plt.plot(history.history['loss'])\n",
        "plt.plot(history.history['val_loss'])\n",
        "plt.title('model loss')\n",
        "plt.ylabel('loss')\n",
        "plt.xlabel('epoch')\n",
        "plt.legend(['train', 'test'], loc='upper left')\n",
        "plt.show()"
      ]
    },
    {
      "cell_type": "code",
      "execution_count": 39,
      "metadata": {
        "colab": {
          "base_uri": "https://localhost:8080/",
          "height": 312
        },
        "id": "PIgwVsW_mjDa",
        "outputId": "31edb381-ac50-4fa8-cd4a-c64247c3fbc1"
      },
      "outputs": [
        {
          "output_type": "stream",
          "name": "stdout",
          "text": [
            "5/5 [==============================] - 0s 17ms/step\n"
          ]
        },
        {
          "output_type": "display_data",
          "data": {
            "text/plain": [
              "<Figure size 432x288 with 1 Axes>"
            ],
            "image/png": "[encoded data removed]"
          },
          "metadata": {
            "needs_background": "light"
          }
        }
      ],
      "source": [
        "y_hat = model.predict(X_test)\n",
        "\n",
        "y_test_inverse = scaler.inverse_transform(y_test)\n",
        "y_hat_inverse = scaler.inverse_transform(y_hat)\n",
        " \n",
        "plt.plot(y_test_inverse, label=\"Actual Price\", color='green')\n",
        "plt.plot(y_hat_inverse, label=\"Predicted Price\", color='red')\n",
        " \n",
        "plt.title('Bitcoin price prediction')\n",
        "plt.xlabel('Time [days]')\n",
        "plt.ylabel('Price')\n",
        "plt.legend(loc='best')\n",
        " \n",
        "plt.show();"
      ]
    }
  ],
  "metadata": {
    "colab": {
      "provenance": []
    },
    "gpuClass": "standard",
    "kernelspec": {
      "display_name": "Python 3.10.7 64-bit",
      "language": "python",
      "name": "python3"
    },
    "language_info": {
      "codemirror_mode": {
        "name": "ipython",
        "version": 3
      },
      "file_extension": ".py",
      "mimetype": "text/x-python",
      "name": "python",
      "nbconvert_exporter": "python",
      "pygments_lexer": "ipython3",
      "version": "3.10.8"
    },
    "vscode": {
      "interpreter": {
        "hash": "e7370f93d1d0cde622a1f8e1c04877d8463912d04d973331ad4851f04de6915a"
      }
    },
    "accelerator": "GPU"
  },
  "nbformat": 4,
  "nbformat_minor": 0
}