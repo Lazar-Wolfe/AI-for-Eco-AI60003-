{
  "cells": [
    {
      "cell_type": "markdown",
      "metadata": {
        "id": "view-in-github",
        "colab_type": "text"
      },
      "source": [
        "<a href=\"https://colab.research.google.com/github/Lazar-Wolfe/AI-for-Eco-AI60003-/blob/main/GRU.ipynb\" target=\"_parent\"><img src=\"https://colab.research.google.com/assets/colab-badge.svg\" alt=\"Open In Colab\"/></a>"
      ]
    },
    {
      "cell_type": "code",
      "execution_count": 3,
      "metadata": {
        "id": "GEmZS6pMA7oA"
      },
      "outputs": [],
      "source": [
        "import pandas as pd\n",
        "import numpy as np\n",
        "import sklearn\n",
        "from sklearn.preprocessing import MinMaxScaler\n",
        "import tensorflow as tf\n",
        "from tensorflow import keras\n",
        "from tensorflow.keras import layers\n",
        "from tensorflow.keras.layers import Bidirectional, GRU, Dropout, Dense, Activation"
      ]
    },
    {
      "cell_type": "code",
      "source": [
        "print(f\"pandas=={pd.__version__}\")\n",
        "print(f\"numpy=={np.__version__}\")\n",
        "print(f\"sklearn=={sklearn.__version__}\")\n",
        "print(f\"tensorflow=={tf.__version__}\")\n",
        "print(f\"keras=={keras.__version__}\")"
      ],
      "metadata": {
        "colab": {
          "base_uri": "https://localhost:8080/"
        },
        "id": "KwtsRxIo2Rz6",
        "outputId": "76f4709f-7da4-4700-fee1-7690e8e43892"
      },
      "execution_count": 4,
      "outputs": [
        {
          "output_type": "stream",
          "name": "stdout",
          "text": [
            "pandas==1.3.5\n",
            "numpy==1.21.6\n",
            "sklearn==1.0.2\n",
            "tensorflow==2.9.2\n",
            "keras==2.9.0\n"
          ]
        }
      ]
    },
    {
      "cell_type": "code",
      "execution_count": 5,
      "metadata": {
        "id": "2m4tx8bFELw0"
      },
      "outputs": [],
      "source": [
        "csv_path = \"https://raw.githubusercontent.com/curiousily/Deep-Learning-For-Hackers/master/data/3.stock-prediction/BTC-USD.csv\"\n",
        "df = pd.read_csv(csv_path, parse_dates=['Date'])\n",
        "df = df.sort_values('Date')"
      ]
    },
    {
      "cell_type": "code",
      "execution_count": 6,
      "metadata": {
        "id": "OA6yUXh_De9P"
      },
      "outputs": [],
      "source": [
        "scaler = MinMaxScaler()\n",
        "\n",
        "close_price = df.Close.values.reshape(-1, 1)\n",
        "\n",
        "scaled_close = scaler.fit_transform(close_price)"
      ]
    },
    {
      "cell_type": "code",
      "execution_count": 7,
      "metadata": {
        "id": "VXRPVMCEDfhK"
      },
      "outputs": [],
      "source": [
        "scaled_close = scaled_close[~np.isnan(scaled_close)]\n",
        "scaled_close = scaled_close.reshape(-1, 1)"
      ]
    },
    {
      "cell_type": "code",
      "execution_count": 8,
      "metadata": {
        "id": "nwIul3R8DoIt"
      },
      "outputs": [],
      "source": [
        "SEQ_LEN = 100\n",
        "\n",
        "def to_sequences(data, seq_len):\n",
        "    d = []\n",
        "\n",
        "    for index in range(len(data) - seq_len):\n",
        "        d.append(data[index: index + seq_len])\n",
        "\n",
        "    return np.array(d)\n",
        "\n",
        "def preprocess(data_raw, seq_len, train_split):\n",
        "\n",
        "    data = to_sequences(data_raw, seq_len)\n",
        "\n",
        "    num_train = int(train_split * data.shape[0])\n",
        "\n",
        "    X_train = data[:num_train, :-1, :]\n",
        "    y_train = data[:num_train, -1, :]\n",
        "\n",
        "    X_test = data[num_train:, :-1, :]\n",
        "    y_test = data[num_train:, -1, :]\n",
        "\n",
        "    return X_train, y_train, X_test, y_test\n",
        "\n",
        "\n",
        "X_train, y_train, X_test, y_test =\\\n",
        " preprocess(scaled_close, SEQ_LEN, train_split = 0.95)"
      ]
    },
    {
      "cell_type": "code",
      "execution_count": 9,
      "metadata": {
        "id": "o4ugDXjjDoT0"
      },
      "outputs": [],
      "source": [
        "DROPOUT = 0.2\n",
        "WINDOW_SIZE = SEQ_LEN - 1\n",
        "\n",
        "model = keras.Sequential()\n",
        "\n",
        "model.add(Bidirectional(\n",
        "  GRU(WINDOW_SIZE, return_sequences=True),\n",
        "  input_shape=(WINDOW_SIZE, X_train.shape[-1])\n",
        "))\n",
        "model.add(Dropout(rate=DROPOUT))\n",
        "\n",
        "model.add(Bidirectional(\n",
        "  GRU((WINDOW_SIZE * 2), return_sequences=True)\n",
        "))\n",
        "model.add(Dropout(rate=DROPOUT))\n",
        "\n",
        "model.add(Bidirectional(\n",
        "  GRU(WINDOW_SIZE, return_sequences=False)\n",
        "))\n",
        "\n",
        "model.add(Dense(units=1))\n",
        "\n",
        "model.add(Activation('linear'))"
      ]
    },
    {
      "cell_type": "code",
      "execution_count": 10,
      "metadata": {
        "colab": {
          "base_uri": "https://localhost:8080/"
        },
        "id": "wn02GmukDoda",
        "outputId": "e3257238-1e49-44d4-95e7-c2340ec2fe18"
      },
      "outputs": [
        {
          "output_type": "stream",
          "name": "stdout",
          "text": [
            "Epoch 1/30\n",
            "42/42 [==============================] - 18s 83ms/step - loss: 5.5202e-04 - val_loss: 0.0151\n",
            "Epoch 2/30\n",
            "42/42 [==============================] - 2s 38ms/step - loss: 0.0067 - val_loss: 0.0462\n",
            "Epoch 3/30\n",
            "42/42 [==============================] - 2s 37ms/step - loss: 0.0129 - val_loss: 0.0540\n",
            "Epoch 4/30\n",
            "42/42 [==============================] - 2s 37ms/step - loss: 0.0144 - val_loss: 0.0647\n",
            "Epoch 5/30\n",
            "42/42 [==============================] - 2s 38ms/step - loss: 0.0226 - val_loss: 0.0524\n",
            "Epoch 6/30\n",
            "42/42 [==============================] - 2s 38ms/step - loss: 0.0055 - val_loss: 0.0127\n",
            "Epoch 7/30\n",
            "42/42 [==============================] - 2s 38ms/step - loss: 0.0083 - val_loss: 0.0222\n",
            "Epoch 8/30\n",
            "42/42 [==============================] - 2s 39ms/step - loss: 0.0191 - val_loss: 0.1051\n",
            "Epoch 9/30\n",
            "42/42 [==============================] - 2s 38ms/step - loss: 0.0153 - val_loss: 0.0876\n",
            "Epoch 10/30\n",
            "42/42 [==============================] - 2s 38ms/step - loss: 0.0111 - val_loss: 0.0539\n",
            "Epoch 11/30\n",
            "42/42 [==============================] - 2s 38ms/step - loss: 0.0021 - val_loss: 7.1993e-04\n",
            "Epoch 12/30\n",
            "42/42 [==============================] - 2s 38ms/step - loss: 6.3346e-04 - val_loss: 0.0034\n",
            "Epoch 13/30\n",
            "42/42 [==============================] - 2s 38ms/step - loss: 0.0076 - val_loss: 0.0574\n",
            "Epoch 14/30\n",
            "42/42 [==============================] - 2s 38ms/step - loss: 0.0032 - val_loss: 0.0024\n",
            "Epoch 15/30\n",
            "42/42 [==============================] - 2s 39ms/step - loss: 0.0040 - val_loss: 0.0046\n",
            "Epoch 16/30\n",
            "42/42 [==============================] - 2s 39ms/step - loss: 0.0112 - val_loss: 0.0889\n",
            "Epoch 17/30\n",
            "42/42 [==============================] - 2s 38ms/step - loss: 0.0098 - val_loss: 0.0601\n",
            "Epoch 18/30\n",
            "42/42 [==============================] - 2s 39ms/step - loss: 0.0048 - val_loss: 0.0161\n",
            "Epoch 19/30\n",
            "42/42 [==============================] - 2s 38ms/step - loss: 0.0035 - val_loss: 0.0029\n",
            "Epoch 20/30\n",
            "42/42 [==============================] - 2s 38ms/step - loss: 0.0087 - val_loss: 0.0636\n",
            "Epoch 21/30\n",
            "42/42 [==============================] - 2s 38ms/step - loss: 0.0068 - val_loss: 0.0328\n",
            "Epoch 22/30\n",
            "42/42 [==============================] - 2s 38ms/step - loss: 0.0012 - val_loss: 4.5314e-04\n",
            "Epoch 23/30\n",
            "42/42 [==============================] - 2s 39ms/step - loss: 4.4093e-04 - val_loss: 5.0374e-04\n",
            "Epoch 24/30\n",
            "42/42 [==============================] - 2s 39ms/step - loss: 3.3557e-04 - val_loss: 4.6200e-04\n",
            "Epoch 25/30\n",
            "42/42 [==============================] - 2s 39ms/step - loss: 3.6172e-04 - val_loss: 5.3596e-04\n",
            "Epoch 26/30\n",
            "42/42 [==============================] - 2s 43ms/step - loss: 4.7864e-04 - val_loss: 4.3979e-04\n",
            "Epoch 27/30\n",
            "42/42 [==============================] - 2s 41ms/step - loss: 0.0016 - val_loss: 0.0067\n",
            "Epoch 28/30\n",
            "42/42 [==============================] - 2s 39ms/step - loss: 0.0023 - val_loss: 8.6235e-04\n",
            "Epoch 29/30\n",
            "42/42 [==============================] - 2s 39ms/step - loss: 0.0066 - val_loss: 0.0455\n",
            "Epoch 30/30\n",
            "42/42 [==============================] - 2s 39ms/step - loss: 0.0034 - val_loss: 0.0093\n"
          ]
        }
      ],
      "source": [
        "BATCH_SIZE = 64\n",
        "\n",
        "model.compile(\n",
        "    loss='mean_squared_error',\n",
        "    optimizer='adam'\n",
        ")\n",
        "\n",
        "history = model.fit(\n",
        "    X_train,\n",
        "    y_train,\n",
        "    epochs=30,\n",
        "    batch_size=BATCH_SIZE,\n",
        "    shuffle=False,\n",
        "    validation_split=0.1\n",
        ")"
      ]
    },
    {
      "cell_type": "code",
      "execution_count": 11,
      "metadata": {
        "colab": {
          "base_uri": "https://localhost:8080/"
        },
        "id": "ZGEn1RXSD2dv",
        "outputId": "8efd3e9b-9799-4dd9-89df-0ceba966f651"
      },
      "outputs": [
        {
          "output_type": "stream",
          "name": "stdout",
          "text": [
            "5/5 [==============================] - 3s 20ms/step\n"
          ]
        }
      ],
      "source": [
        "y_hat = model.predict(X_test)"
      ]
    },
    {
      "cell_type": "code",
      "execution_count": 12,
      "metadata": {
        "id": "V7HHsVXbD89V"
      },
      "outputs": [],
      "source": [
        "y_test_inverse = scaler.inverse_transform(y_test)\n",
        "y_hat_inverse = scaler.inverse_transform(y_hat)"
      ]
    },
    {
      "cell_type": "code",
      "execution_count": 13,
      "metadata": {
        "colab": {
          "base_uri": "https://localhost:8080/"
        },
        "id": "eyi3usB2me6h",
        "outputId": "2d16a1bd-1eab-43aa-af2d-e5092738b40b"
      },
      "outputs": [
        {
          "output_type": "stream",
          "name": "stdout",
          "text": [
            "5/5 [==============================] - 0s 24ms/step - loss: 0.0017\n"
          ]
        },
        {
          "output_type": "execute_result",
          "data": {
            "text/plain": [
              "0.0017026746645569801"
            ]
          },
          "metadata": {},
          "execution_count": 13
        }
      ],
      "source": [
        "model.evaluate(X_test, y_test)"
      ]
    },
    {
      "cell_type": "code",
      "execution_count": 14,
      "metadata": {
        "colab": {
          "base_uri": "https://localhost:8080/",
          "height": 295
        },
        "id": "oZ-95kTtmfyP",
        "outputId": "69e2c35d-17c8-4e40-e375-444c3b681eed"
      },
      "outputs": [
        {
          "output_type": "display_data",
          "data": {
            "text/plain": [
              "<Figure size 432x288 with 1 Axes>"
            ],
            "image/png": "[encoded data removed]"
          },
          "metadata": {
            "needs_background": "light"
          }
        }
      ],
      "source": [
        "import matplotlib.pyplot as plt\n",
        "from matplotlib import rc\n",
        "\n",
        "plt.plot(history.history['loss'])\n",
        "plt.plot(history.history['val_loss'])\n",
        "plt.title('model loss')\n",
        "plt.ylabel('loss')\n",
        "plt.xlabel('epoch')\n",
        "plt.legend(['train', 'test'], loc='upper left')\n",
        "plt.show()"
      ]
    },
    {
      "cell_type": "code",
      "execution_count": 17,
      "metadata": {
        "colab": {
          "base_uri": "https://localhost:8080/",
          "height": 312
        },
        "id": "PIgwVsW_mjDa",
        "outputId": "90bfcd54-f8ce-4bb2-d9c9-4407e43a0240"
      },
      "outputs": [
        {
          "output_type": "stream",
          "name": "stdout",
          "text": [
            "5/5 [==============================] - 0s 27ms/step\n"
          ]
        },
        {
          "output_type": "display_data",
          "data": {
            "text/plain": [
              "<Figure size 432x288 with 1 Axes>"
            ],
            "image/png": "[encoded data removed]"
          },
          "metadata": {
            "needs_background": "light"
          }
        }
      ],
      "source": [
        "y_hat = model.predict(X_test)\n",
        "\n",
        "y_test_inverse = scaler.inverse_transform(y_test)\n",
        "y_hat_inverse = scaler.inverse_transform(y_hat)\n",
        " \n",
        "plt.plot(y_test_inverse, label=\"Actual Price\", color='green')\n",
        "plt.plot(y_hat_inverse, label=\"Predicted Price\", color='red')\n",
        " \n",
        "plt.title('Bitcoin price prediction')\n",
        "plt.xlabel('Time [days]')\n",
        "plt.ylabel('Price')\n",
        "plt.legend(loc='best')\n",
        " \n",
        "plt.show();"
      ]
    }
  ],
  "metadata": {
    "colab": {
      "provenance": [],
      "include_colab_link": true
    },
    "gpuClass": "standard",
    "kernelspec": {
      "display_name": "Python 3.10.7 64-bit",
      "language": "python",
      "name": "python3"
    },
    "language_info": {
      "codemirror_mode": {
        "name": "ipython",
        "version": 3
      },
      "file_extension": ".py",
      "mimetype": "text/x-python",
      "name": "python",
      "nbconvert_exporter": "python",
      "pygments_lexer": "ipython3",
      "version": "3.10.8"
    },
    "vscode": {
      "interpreter": {
        "hash": "e7370f93d1d0cde622a1f8e1c04877d8463912d04d973331ad4851f04de6915a"
      }
    },
    "accelerator": "GPU"
  },
  "nbformat": 4,
  "nbformat_minor": 0
}