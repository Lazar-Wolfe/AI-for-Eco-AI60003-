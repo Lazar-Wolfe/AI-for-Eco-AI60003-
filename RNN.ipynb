{
  "cells": [
    {
      "cell_type": "markdown",
      "metadata": {
        "id": "view-in-github",
        "colab_type": "text"
      },
      "source": [
        "<a href=\"https://colab.research.google.com/github/Lazar-Wolfe/AI-for-Eco-AI60003-/blob/main/RNN.ipynb\" target=\"_parent\"><img src=\"https://colab.research.google.com/assets/colab-badge.svg\" alt=\"Open In Colab\"/></a>"
      ]
    },
    {
      "cell_type": "code",
      "execution_count": null,
      "metadata": {
        "id": "Z0vnSqSgVOPL"
      },
      "outputs": [],
      "source": [
        "#!pip install -U numpy==1.19.2 > /dev/null"
      ]
    },
    {
      "cell_type": "code",
      "execution_count": null,
      "metadata": {
        "id": "GEmZS6pMA7oA"
      },
      "outputs": [],
      "source": [
        "import pandas as pd\n",
        "import numpy as np\n",
        "import sklearn\n",
        "from sklearn.preprocessing import MinMaxScaler\n",
        "import tensorflow as tf\n",
        "from tensorflow import keras\n",
        "from tensorflow.keras import layers\n",
        "from tensorflow.keras.layers import Bidirectional, LSTM, Dropout, Dense, Activation"
      ]
    },
    {
      "cell_type": "code",
      "source": [
        "print(f\"pandas=={pd.__version__}\")\n",
        "print(f\"numpy=={np.__version__}\")\n",
        "print(f\"sklearn=={sklearn.__version__}\")\n",
        "print(f\"tensorflow=={tf.__version__}\")\n",
        "print(f\"keras=={keras.__version__}\")"
      ],
      "metadata": {
        "colab": {
          "base_uri": "https://localhost:8080/"
        },
        "id": "7YlESYYFzwzL",
        "outputId": "170ba080-8473-478f-f768-6f070a20eb59"
      },
      "execution_count": null,
      "outputs": [
        {
          "output_type": "stream",
          "name": "stdout",
          "text": [
            "pandas==1.3.5\n",
            "numpy==1.21.6\n",
            "sklearn==1.0.2\n",
            "tensorflow==2.9.2\n",
            "keras==2.9.0\n"
          ]
        }
      ]
    },
    {
      "cell_type": "code",
      "execution_count": null,
      "metadata": {
        "id": "2m4tx8bFELw0"
      },
      "outputs": [],
      "source": [
        "csv_path = \"https://raw.githubusercontent.com/curiousily/Deep-Learning-For-Hackers/master/data/3.stock-prediction/BTC-USD.csv\"\n",
        "df = pd.read_csv(csv_path, parse_dates=['Date'])\n",
        "df = df.sort_values('Date')"
      ]
    },
    {
      "cell_type": "code",
      "execution_count": null,
      "metadata": {
        "id": "OA6yUXh_De9P"
      },
      "outputs": [],
      "source": [
        "scaler = MinMaxScaler()\n",
        "\n",
        "close_price = df.Close.values.reshape(-1, 1)\n",
        "\n",
        "scaled_close = scaler.fit_transform(close_price)"
      ]
    },
    {
      "cell_type": "code",
      "execution_count": null,
      "metadata": {
        "id": "VXRPVMCEDfhK"
      },
      "outputs": [],
      "source": [
        "scaled_close = scaled_close[~np.isnan(scaled_close)]\n",
        "scaled_close = scaled_close.reshape(-1, 1)"
      ]
    },
    {
      "cell_type": "code",
      "execution_count": null,
      "metadata": {
        "id": "nwIul3R8DoIt"
      },
      "outputs": [],
      "source": [
        "SEQ_LEN = 100\n",
        "\n",
        "def to_sequences(data, seq_len):\n",
        "    d = []\n",
        "\n",
        "    for index in range(len(data) - seq_len):\n",
        "        d.append(data[index: index + seq_len])\n",
        "\n",
        "    return np.array(d)\n",
        "\n",
        "def preprocess(data_raw, seq_len, train_split):\n",
        "\n",
        "    data = to_sequences(data_raw, seq_len)\n",
        "\n",
        "    num_train = int(train_split * data.shape[0])\n",
        "\n",
        "    X_train = data[:num_train, :-1, :]\n",
        "    y_train = data[:num_train, -1, :]\n",
        "\n",
        "    X_test = data[num_train:, :-1, :]\n",
        "    y_test = data[num_train:, -1, :]\n",
        "\n",
        "    return X_train, y_train, X_test, y_test\n",
        "\n",
        "\n",
        "X_train, y_train, X_test, y_test =\\\n",
        " preprocess(scaled_close, SEQ_LEN, train_split = 0.95)"
      ]
    },
    {
      "cell_type": "code",
      "execution_count": null,
      "metadata": {
        "id": "o4ugDXjjDoT0"
      },
      "outputs": [],
      "source": [
        "DROPOUT = 0.2\n",
        "WINDOW_SIZE = SEQ_LEN - 1\n",
        "\n",
        "model = keras.Sequential()\n",
        "\n",
        "model.add(Bidirectional(\n",
        "  LSTM(WINDOW_SIZE, return_sequences=True),\n",
        "  input_shape=(WINDOW_SIZE, X_train.shape[-1])\n",
        "))\n",
        "model.add(Dropout(rate=DROPOUT))\n",
        "\n",
        "model.add(Bidirectional(\n",
        "  LSTM((WINDOW_SIZE * 2), return_sequences=True)\n",
        "))\n",
        "model.add(Dropout(rate=DROPOUT))\n",
        "\n",
        "model.add(Bidirectional(\n",
        "  LSTM(WINDOW_SIZE, return_sequences=False)\n",
        "))\n",
        "\n",
        "model.add(Dense(units=1))\n",
        "\n",
        "model.add(Activation('linear'))"
      ]
    },
    {
      "cell_type": "code",
      "execution_count": null,
      "metadata": {
        "colab": {
          "base_uri": "https://localhost:8080/"
        },
        "id": "wn02GmukDoda",
        "outputId": "21fb2538-d446-4eb3-9d6c-fda6cd654429"
      },
      "outputs": [
        {
          "output_type": "stream",
          "name": "stdout",
          "text": [
            "Epoch 1/30\n",
            "42/42 [==============================] - 22s 132ms/step - loss: 0.0011 - val_loss: 0.0119\n",
            "Epoch 2/30\n",
            "42/42 [==============================] - 2s 44ms/step - loss: 0.0041 - val_loss: 0.0043\n",
            "Epoch 3/30\n",
            "42/42 [==============================] - 2s 43ms/step - loss: 0.0126 - val_loss: 0.0033\n",
            "Epoch 4/30\n",
            "42/42 [==============================] - 2s 43ms/step - loss: 0.0071 - val_loss: 0.0040\n",
            "Epoch 5/30\n",
            "42/42 [==============================] - 2s 43ms/step - loss: 0.0120 - val_loss: 0.0276\n",
            "Epoch 6/30\n",
            "42/42 [==============================] - 2s 44ms/step - loss: 0.0029 - val_loss: 0.0040\n",
            "Epoch 7/30\n",
            "42/42 [==============================] - 2s 45ms/step - loss: 0.0103 - val_loss: 0.0079\n",
            "Epoch 8/30\n",
            "42/42 [==============================] - 2s 53ms/step - loss: 0.0031 - val_loss: 0.0339\n",
            "Epoch 9/30\n",
            "42/42 [==============================] - 2s 52ms/step - loss: 0.0017 - val_loss: 0.0125\n",
            "Epoch 10/30\n",
            "42/42 [==============================] - 4s 86ms/step - loss: 0.0117 - val_loss: 0.0504\n",
            "Epoch 11/30\n",
            "42/42 [==============================] - 3s 83ms/step - loss: 0.0079 - val_loss: 0.0062\n",
            "Epoch 12/30\n",
            "42/42 [==============================] - 3s 79ms/step - loss: 0.0086 - val_loss: 0.0075\n",
            "Epoch 13/30\n",
            "42/42 [==============================] - 3s 73ms/step - loss: 0.0113 - val_loss: 0.0520\n",
            "Epoch 14/30\n",
            "42/42 [==============================] - 2s 45ms/step - loss: 0.0110 - val_loss: 0.0355\n",
            "Epoch 15/30\n",
            "42/42 [==============================] - 2s 44ms/step - loss: 0.0025 - val_loss: 0.0026\n",
            "Epoch 16/30\n",
            "42/42 [==============================] - 2s 44ms/step - loss: 7.4821e-04 - val_loss: 0.0030\n",
            "Epoch 17/30\n",
            "42/42 [==============================] - 2s 44ms/step - loss: 6.7408e-04 - val_loss: 0.0013\n",
            "Epoch 18/30\n",
            "42/42 [==============================] - 2s 55ms/step - loss: 0.0059 - val_loss: 0.0322\n",
            "Epoch 19/30\n",
            "42/42 [==============================] - 3s 75ms/step - loss: 0.0017 - val_loss: 0.0025\n",
            "Epoch 20/30\n",
            "42/42 [==============================] - 3s 60ms/step - loss: 0.0012 - val_loss: 0.0044\n",
            "Epoch 21/30\n",
            "42/42 [==============================] - 3s 63ms/step - loss: 0.0065 - val_loss: 0.0336\n",
            "Epoch 22/30\n",
            "42/42 [==============================] - 3s 76ms/step - loss: 0.0030 - val_loss: 0.0019\n",
            "Epoch 23/30\n",
            "42/42 [==============================] - 2s 59ms/step - loss: 0.0014 - val_loss: 0.0069\n",
            "Epoch 24/30\n",
            "42/42 [==============================] - 2s 57ms/step - loss: 0.0057 - val_loss: 0.0237\n",
            "Epoch 25/30\n",
            "42/42 [==============================] - 3s 68ms/step - loss: 0.0017 - val_loss: 0.0011\n",
            "Epoch 26/30\n",
            "42/42 [==============================] - 2s 59ms/step - loss: 8.2010e-04 - val_loss: 0.0069\n",
            "Epoch 27/30\n",
            "42/42 [==============================] - 2s 59ms/step - loss: 0.0033 - val_loss: 0.0103\n",
            "Epoch 28/30\n",
            "42/42 [==============================] - 2s 54ms/step - loss: 7.8188e-04 - val_loss: 0.0050\n",
            "Epoch 29/30\n",
            "42/42 [==============================] - 2s 57ms/step - loss: 2.9138e-04 - val_loss: 0.0037\n",
            "Epoch 30/30\n",
            "42/42 [==============================] - 2s 60ms/step - loss: 2.8181e-04 - val_loss: 0.0039\n"
          ]
        }
      ],
      "source": [
        "BATCH_SIZE = 64\n",
        "\n",
        "model.compile(\n",
        "    loss='mean_squared_error',\n",
        "    optimizer='adam'\n",
        ")\n",
        "\n",
        "history = model.fit(\n",
        "    X_train,\n",
        "    y_train,\n",
        "    epochs=30,\n",
        "    batch_size=BATCH_SIZE,\n",
        "    shuffle=False,\n",
        "    validation_split=0.1\n",
        ")"
      ]
    },
    {
      "cell_type": "code",
      "execution_count": null,
      "metadata": {
        "colab": {
          "base_uri": "https://localhost:8080/"
        },
        "id": "ZGEn1RXSD2dv",
        "outputId": "a38c05ff-f73f-44e5-ce43-d06202d72cfd"
      },
      "outputs": [
        {
          "output_type": "stream",
          "name": "stdout",
          "text": [
            "5/5 [==============================] - 4s 27ms/step\n"
          ]
        }
      ],
      "source": [
        "y_hat = model.predict(X_test)"
      ]
    },
    {
      "cell_type": "code",
      "execution_count": null,
      "metadata": {
        "id": "V7HHsVXbD89V"
      },
      "outputs": [],
      "source": [
        "y_test_inverse = scaler.inverse_transform(y_test)\n",
        "y_hat_inverse = scaler.inverse_transform(y_hat)"
      ]
    },
    {
      "cell_type": "code",
      "execution_count": null,
      "metadata": {
        "colab": {
          "base_uri": "https://localhost:8080/"
        },
        "id": "eyi3usB2me6h",
        "outputId": "5e135ad5-5487-4e57-fc3a-ef398dcc22d9"
      },
      "outputs": [
        {
          "output_type": "stream",
          "name": "stdout",
          "text": [
            "5/5 [==============================] - 0s 31ms/step - loss: 5.5987e-04\n"
          ]
        },
        {
          "output_type": "execute_result",
          "data": {
            "text/plain": [
              "0.0005598710849881172"
            ]
          },
          "metadata": {},
          "execution_count": 11
        }
      ],
      "source": [
        "model.evaluate(X_test, y_test)"
      ]
    },
    {
      "cell_type": "code",
      "execution_count": null,
      "metadata": {
        "colab": {
          "base_uri": "https://localhost:8080/",
          "height": 295
        },
        "id": "oZ-95kTtmfyP",
        "outputId": "02ea7337-8408-4343-8eed-475ae3f8cbf7"
      },
      "outputs": [
        {
          "output_type": "display_data",
          "data": {
            "text/plain": [
              "<Figure size 432x288 with 1 Axes>"
            ],
            "image/png": "[encoded data removed]"
          },
          "metadata": {
            "needs_background": "light"
          }
        }
      ],
      "source": [
        "import matplotlib.pyplot as plt\n",
        "from matplotlib import rc\n",
        "\n",
        "plt.plot(history.history['loss'])\n",
        "plt.plot(history.history['val_loss'])\n",
        "plt.title('model loss')\n",
        "plt.ylabel('loss')\n",
        "plt.xlabel('epoch')\n",
        "plt.legend(['train', 'test'], loc='upper left')\n",
        "plt.show()"
      ]
    },
    {
      "cell_type": "code",
      "execution_count": null,
      "metadata": {
        "colab": {
          "base_uri": "https://localhost:8080/",
          "height": 312
        },
        "id": "PIgwVsW_mjDa",
        "outputId": "958d0b53-810b-44cf-b8ef-87df5f46d97d"
      },
      "outputs": [
        {
          "output_type": "stream",
          "name": "stdout",
          "text": [
            "5/5 [==============================] - 0s 22ms/step\n"
          ]
        },
        {
          "output_type": "display_data",
          "data": {
            "text/plain": [
              "<Figure size 432x288 with 1 Axes>"
            ],
            "image/png": "[encoded data removed]"
          },
          "metadata": {
            "needs_background": "light"
          }
        }
      ],
      "source": [
        "y_hat = model.predict(X_test)\n",
        "\n",
        "y_test_inverse = scaler.inverse_transform(y_test)\n",
        "y_hat_inverse = scaler.inverse_transform(y_hat)\n",
        " \n",
        "plt.plot(y_test_inverse, label=\"Actual Price\", color='green')\n",
        "plt.plot(y_hat_inverse, label=\"Predicted Price\", color='red')\n",
        " \n",
        "plt.title('Bitcoin price prediction')\n",
        "plt.xlabel('Time [days]')\n",
        "plt.ylabel('Price')\n",
        "plt.legend(loc='best')\n",
        " \n",
        "plt.show();"
      ]
    }
  ],
  "metadata": {
    "colab": {
      "provenance": [],
      "include_colab_link": true
    },
    "gpuClass": "standard",
    "kernelspec": {
      "display_name": "Python 3.10.7 64-bit",
      "language": "python",
      "name": "python3"
    },
    "language_info": {
      "codemirror_mode": {
        "name": "ipython",
        "version": 3
      },
      "file_extension": ".py",
      "mimetype": "text/x-python",
      "name": "python",
      "nbconvert_exporter": "python",
      "pygments_lexer": "ipython3",
      "version": "3.10.8"
    },
    "vscode": {
      "interpreter": {
        "hash": "e7370f93d1d0cde622a1f8e1c04877d8463912d04d973331ad4851f04de6915a"
      }
    },
    "accelerator": "GPU"
  },
  "nbformat": 4,
  "nbformat_minor": 0
}